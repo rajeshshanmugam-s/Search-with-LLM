{
  "nbformat": 4,
  "nbformat_minor": 0,
  "metadata": {
    "colab": {
      "provenance": []
    },
    "kernelspec": {
      "name": "python3",
      "display_name": "Python 3"
    },
    "language_info": {
      "name": "python"
    }
  },
  "cells": [
    {
      "cell_type": "code",
      "execution_count": 3,
      "metadata": {
        "colab": {
          "base_uri": "https://localhost:8080/"
        },
        "id": "QFrysEHKeWSa",
        "outputId": "c0162c05-509f-4106-c335-0d8dd073d4ba"
      },
      "outputs": [
        {
          "output_type": "stream",
          "name": "stdout",
          "text": [
            "(2397873, 1)\n",
            "Certified Refurbished Amazon Fire TV (Previous Generation - 1st),,,\n",
            "Certified Refurbished Amazon Fire TV (Previous Generation - 1st),,,\n",
            "Certified Refurbished Amazon Fire TV Stick (Previous Generation - 1st),,,\n",
            "Certified Refurbished Amazon Fire TV Stick (Previous Generation - 1st),,,\n",
            "Certified Refurbished Amazon Fire TV Stick (Previous Generation - 1st),,,\n",
            "Kindle Paperwhite,,,\n",
            "Amazon Echo and Fire TV Power Adapter,,,\n",
            "Amazon Echo and Fire TV Power Adapter,,,\n",
            "Certified Refurbished Amazon Fire TV with Alexa Voice Remote,,,\n",
            "Certified Refurbished Amazon Fire TV with Alexa Voice Remote,,,\n",
            "Coconut Water Red Tea 16.5 Oz (pack of 12),,,\n",
            "Amazon Fire Tv,,,\n",
            "Amazon Fire Tv,,,\n",
            "Amazon Fire Tv,,,\n",
            "Amazon Fire Tv,,,\n",
            "Kindle Dx Leather Cover, Black (fits 9.7 Display, Latest and 2nd Generation Kindle Dxs)\",,\n",
            "Amazon Fire TV with 4K Ultra HD and Alexa Voice Remote (Pendant Design) | Streaming Media Player\n",
            "Fire TV Stick Streaming Media Player Pair Kit\n",
            "Amazon Fire TV Gaming Edition Streaming Media Player\n"
          ]
        }
      ],
      "source": [
        "import pandas as pd\n",
        "\n",
        "\n",
        "df = pd.read_csv('/content/drive/MyDrive/Colab Notebooks/product_names.csv', on_bad_lines='skip', engine='python')\n",
        "\n",
        "print(df.shape)\n",
        "\n",
        "def get_suggestions(search_query):\n",
        "\n",
        "    search_query = search_query.lower()\n",
        "    suggestions = df[df['Product Name'].str.lower().str.contains(search_query, na=False)]['Product Name'].tolist()\n",
        "    return suggestions\n",
        "\n",
        "\n",
        "search_query = 'Fire TV'\n",
        "suggestions = get_suggestions(search_query)\n",
        "\n",
        "for e, i in enumerate(suggestions):\n",
        "  print(i)\n",
        "  if e == 10:\n",
        "    break\n"
      ]
    },
    {
      "cell_type": "code",
      "source": [],
      "metadata": {
        "id": "1YNWZf8UeW5q"
      },
      "execution_count": null,
      "outputs": []
    }
  ]
}